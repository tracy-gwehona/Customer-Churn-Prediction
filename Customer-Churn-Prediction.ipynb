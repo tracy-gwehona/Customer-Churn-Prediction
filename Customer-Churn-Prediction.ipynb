{
 "cells": [
  {
   "cell_type": "markdown",
   "metadata": {},
   "source": [
    "# Customer Churn Prediction for SyriaTel Telecom\n",
    "\n",
    "- Student name: Tracy Gwehona\n",
    "- Student pace: Full Time\n",
    "- Instructor name: Maryann Mwikali"
   ]
  },
  {
   "cell_type": "markdown",
   "metadata": {},
   "source": [
    "## Business Understanding\n",
    "### Overview\n",
    "Customer churn (or the loss of customers) is one of the biggest challenges for telecommunications companies such as SyriaTel because acquiring new customers can be much more expensive than keeping them. High churn rates affect profitability, market share, and long-term expansion. I aim to use  historical customer information to anticipate who is destined to exit. If the company knows the churn pattern, it will be able to apply proactive measures to increase retention and customer satisfaction and keep up with the competition.\n",
    "\n",
    "### Business problem\n",
    "SyriaTel is having customer churn and that is directly impacting revenue and profit. For that, the company must know what causes the customer to be dissatisfied with it. SyriaTel can’t develop retention plans without understanding churn and high-risk customers, , leading to continued customer loss and a decline in market share.\n",
    "\n",
    "To address this, I aim to:\n",
    "1. Identify key factors influencing customer churn.\n",
    "2. Predict customer churn.\n",
    "3. Provide actionable insights to enable SyriaTel to implement targeted interventions."
   ]
  },
  {
   "cell_type": "markdown",
   "metadata": {},
   "source": []
  }
 ],
 "metadata": {
  "kernelspec": {
   "display_name": "learn-env",
   "language": "python",
   "name": "python3"
  },
  "language_info": {
   "name": "python",
   "version": "3.8.5"
  }
 },
 "nbformat": 4,
 "nbformat_minor": 2
}
